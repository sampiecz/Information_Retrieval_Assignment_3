{
 "cells": [
  {
   "cell_type": "code",
   "execution_count": 304,
   "metadata": {},
   "outputs": [],
   "source": [
    "from selenium.webdriver.common.action_chains import ActionChains\n",
    "from selenium import webdriver\n",
    "import selenium.webdriver.chrome.service as service \n",
    "from selenium.webdriver.common.keys import Keys \n",
    "import getpass\n",
    "import time\n",
    "import pprint\n",
    "import random"
   ]
  },
  {
   "cell_type": "code",
   "execution_count": 64,
   "metadata": {},
   "outputs": [
    {
     "name": "stdin",
     "output_type": "stream",
     "text": [
      "Please enter your student email username:  Z1732715@students.niu.edu\n",
      "Please enter your student email password:  ··············\n"
     ]
    }
   ],
   "source": [
    "# gets BB credentials\n",
    "username_to_enter = input(\"Please enter your student email username: \") \n",
    "password_to_enter = getpass.getpass(\"Please enter your student email password: \")"
   ]
  },
  {
   "cell_type": "code",
   "execution_count": 305,
   "metadata": {},
   "outputs": [],
   "source": [
    "# sets driver\n",
    "driver = webdriver.Chrome(\"/home/samuel/Dropbox/2020/Winter/School/IR/Spotlight/chromedriver\")\n",
    "#driver = webdriver.Chrome(\"/Users/samuelpiecz/execs/chromedriver\")\n"
   ]
  },
  {
   "cell_type": "code",
   "execution_count": 306,
   "metadata": {},
   "outputs": [],
   "source": [
    "# goes to url\n",
    "driver.get(\"https://webcourses.niu.edu/webapps/login/\")"
   ]
  },
  {
   "cell_type": "code",
   "execution_count": 307,
   "metadata": {},
   "outputs": [],
   "source": [
    "# click accept privacy policy\n",
    "privacyPolicy = driver.find_element_by_xpath('//*[@id=\"agree_button\"]')\n",
    "privacyPolicy.click()"
   ]
  },
  {
   "cell_type": "code",
   "execution_count": 308,
   "metadata": {},
   "outputs": [],
   "source": [
    "# Click the login button\n",
    "loginButton = driver.find_element_by_xpath('//*[@id=\"azureLogin\"]/a/button')\n",
    "loginButton.click()"
   ]
  },
  {
   "cell_type": "code",
   "execution_count": 309,
   "metadata": {},
   "outputs": [],
   "source": [
    "# Send username credentials to form\n",
    "studentEmail = driver.find_element_by_xpath('//*[@id=\"i0116\"]')\n",
    "studentEmail.send_keys(username_to_enter)"
   ]
  },
  {
   "cell_type": "code",
   "execution_count": 310,
   "metadata": {},
   "outputs": [],
   "source": [
    "# Click Next\n",
    "nextButton = driver.find_element_by_xpath('//*[@id=\"idSIButton9\"]')\n",
    "nextButton.click()"
   ]
  },
  {
   "cell_type": "code",
   "execution_count": 311,
   "metadata": {},
   "outputs": [],
   "source": [
    "# Send password credentials to form\n",
    "studentPassword = driver.find_element_by_xpath('//*[@type=\"password\"]')\n",
    "studentPassword.send_keys(password_to_enter)"
   ]
  },
  {
   "cell_type": "code",
   "execution_count": 312,
   "metadata": {},
   "outputs": [],
   "source": [
    "# Click Sign In\n",
    "signInButton = driver.find_element_by_xpath('//*[@value=\"Sign in\"]')\n",
    "signInButton.click()"
   ]
  },
  {
   "cell_type": "code",
   "execution_count": 313,
   "metadata": {},
   "outputs": [
    {
     "name": "stdin",
     "output_type": "stream",
     "text": [
      "Please enter the 2FA code sent to your phone: 508805\n"
     ]
    }
   ],
   "source": [
    "# Enter 2FA code\n",
    "twoFACode = input(\"Please enter the 2FA code sent to your phone:\")\n",
    "twoFAInput = driver.find_element_by_xpath('//*[@placeholder=\"Code\"]')\n",
    "twoFAInput.send_keys(twoFACode)"
   ]
  },
  {
   "cell_type": "code",
   "execution_count": 314,
   "metadata": {},
   "outputs": [],
   "source": [
    "# Click the Verify for 2FA button\n",
    "verify2FAButton = driver.find_element_by_xpath('//*[@value=\"Verify\"]')\n",
    "verify2FAButton.click()"
   ]
  },
  {
   "cell_type": "code",
   "execution_count": 315,
   "metadata": {},
   "outputs": [],
   "source": [
    "# Click the don't stay signed in button\n",
    "staySignedInButton = driver.find_element_by_xpath('//*[@value=\"No\"]')\n",
    "staySignedInButton.click()"
   ]
  },
  {
   "cell_type": "markdown",
   "metadata": {},
   "source": [
    "# Scrape Grades"
   ]
  },
  {
   "cell_type": "code",
   "execution_count": 323,
   "metadata": {},
   "outputs": [],
   "source": [
    "gradeDict = dict()"
   ]
  },
  {
   "cell_type": "code",
   "execution_count": 317,
   "metadata": {},
   "outputs": [],
   "source": [
    "# Click the grades button\n",
    "gradesButton = driver.find_element_by_xpath('//*[@id=\"base_tools\"]/bb-base-navigation-button[8]/li/a/ng-switch/span')\n",
    "gradesButton.click()"
   ]
  },
  {
   "cell_type": "code",
   "execution_count": 324,
   "metadata": {},
   "outputs": [],
   "source": [
    "# Loop through all currently enrolled classes. \n",
    "trueClasses = []\n",
    "for item in driver.find_elements_by_xpath('//*[@analytics-id=\"components.directives.grades.studentGrades.legacyCourse.name.link\"]'):\n",
    "    if item.text != \"\":\n",
    "        trueClasses.append(item)"
   ]
  },
  {
   "cell_type": "code",
   "execution_count": 326,
   "metadata": {},
   "outputs": [],
   "source": [
    "# Iterate through all classes\n",
    "for count, trueClass in enumerate(trueClasses):\n",
    "    \n",
    "    time.sleep(2)\n",
    "    \n",
    "    # Click on a particular class\n",
    "    trueClass.click()\n",
    "    \n",
    "    time.sleep(2)\n",
    "    \n",
    "    # Switch to iframe that stores grades\n",
    "    driver.switch_to.frame(\"classic-learn-iframe\")\n",
    "    \n",
    "    time.sleep(2)\n",
    "    \n",
    "    # Get the grades, error handling if class has no grade\n",
    "    try:\n",
    "        classGradeEarned = float(driver.find_element_by_css_selector('span.grade').text)\n",
    "        classGradeTotal = float(driver.find_element_by_css_selector('span.pointsPossible.clearfloats').text.split(\"/\")[1])\n",
    "    except ValueError:\n",
    "        \n",
    "        # Switch out of current iframe\n",
    "        driver.switch_to.default_content()\n",
    "\n",
    "        # Click the X on the current class to go process other classes\n",
    "        xButton = driver.find_element_by_xpath('//*[@id=\"main-content\"]/div[3]/div/div[2]/button')\n",
    "        xButton.click()\n",
    "\n",
    "        continue\n",
    "    \n",
    "    # Calc \n",
    "    gradeTotal = (classGradeEarned / classGradeTotal) * 100\n",
    "    \n",
    "    # Switch out of current iframe\n",
    "    driver.switch_to.default_content()\n",
    "    \n",
    "    # Click the X on the current class to go process other classes\n",
    "    xButton = driver.find_element_by_xpath('//*[@id=\"main-content\"]/div[3]/div/div[2]/button')\n",
    "    xButton.click()\n",
    "    \n",
    "    # Update our grade dict\n",
    "    grades.update({\n",
    "        count: { \n",
    "            \"className\": str(count) + \" - \" + trueClass.text,\n",
    "            \"grade\": gradeTotal,\n",
    "        },\n",
    "    })\n",
    "    "
   ]
  },
  {
   "cell_type": "code",
   "execution_count": 327,
   "metadata": {},
   "outputs": [
    {
     "name": "stdout",
     "output_type": "stream",
     "text": [
      "=====================\n",
      "Spring 2020 CSCI 642 - MSTR Information Storage & Retrieva\n",
      "77.6595744680851\n",
      "=====================\n",
      "Spring 2020 CSCI 680 - MSTR Topics in Computer Science\n",
      "70.875\n",
      "=====================\n",
      "Spring 2020 CSCI 680 - MSTR Topics in Computer Science\n",
      "94.19999999999999\n",
      "=====================\n",
      "5 - Spring 2020 MKTG 370 - MSTR Principles of Digital Mktg\n",
      "81.74761904761905\n",
      "=====================\n",
      "Spring 2020 MKTG 455 - YE1 Database Mktg and Data Mining\n",
      "87.84313725490196\n",
      "=====================\n"
     ]
    }
   ],
   "source": [
    "def printGrades():\n",
    "    print('=====================')\n",
    "    for key, value in grades.items():\n",
    "        for key2, value2 in value.items():\n",
    "            print(value2)\n",
    "        print('=====================')\n",
    "\n",
    "printGrades()"
   ]
  },
  {
   "cell_type": "code",
   "execution_count": 328,
   "metadata": {},
   "outputs": [],
   "source": [
    "classList = [value[\"className\"] for key, value in grades.items()]\n",
    "gradeList = [value[\"grade\"] for key, value in grades.items()]"
   ]
  },
  {
   "cell_type": "code",
   "execution_count": 329,
   "metadata": {},
   "outputs": [
    {
     "data": {
      "image/png": "[encoded data removed]",
      "text/plain": [
       "<Figure size 1440x720 with 1 Axes>"
      ]
     },
     "metadata": {
      "needs_background": "light"
     },
     "output_type": "display_data"
    }
   ],
   "source": [
    "import matplotlib.pyplot as plt\n",
    "\n",
    "plt.figure(figsize=(20,10))\n",
    "plt.barh(classList, gradeList)\n",
    "plt.show()"
   ]
  },
  {
   "cell_type": "code",
   "execution_count": null,
   "metadata": {},
   "outputs": [],
   "source": []
  }
 ],
 "metadata": {
  "kernelspec": {
   "display_name": "Python 3",
   "language": "python",
   "name": "python3"
  },
  "language_info": {
   "codemirror_mode": {
    "name": "ipython",
    "version": 3
   },
   "file_extension": ".py",
   "mimetype": "text/x-python",
   "name": "python",
   "nbconvert_exporter": "python",
   "pygments_lexer": "ipython3",
   "version": "3.6.9"
  }
 },
 "nbformat": 4,
 "nbformat_minor": 4
}
